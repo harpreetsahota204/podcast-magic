{
 "cells": [
  {
   "cell_type": "code",
   "execution_count": 3,
   "metadata": {},
   "outputs": [],
   "source": [
    "import nest_asyncio\n",
    "nest_asyncio.apply()\n",
    "\n",
    "import os\n",
    "import getpass\n",
    "import openai\n",
    "import logging\n",
    "import sys\n",
    "from llama_index import SimpleDirectoryReader, SummaryIndex, ServiceContext\n",
    "\n",
    "logging.basicConfig(stream=sys.stdout, level=logging.INFO)\n",
    "logging.getLogger().addHandler(logging.StreamHandler(stream=sys.stdout))"
   ]
  },
  {
   "cell_type": "code",
   "execution_count": 4,
   "metadata": {},
   "outputs": [],
   "source": [
    "os.environ[\"OPENAI_API_KEY\"] = getpass.getpass(\"Enter Your OpenAI API Key:\")"
   ]
  },
  {
   "cell_type": "code",
   "execution_count": 5,
   "metadata": {},
   "outputs": [],
   "source": [
    "logging.basicConfig(stream=sys.stdout, level=logging.INFO)\n",
    "logging.getLogger().addHandler(logging.StreamHandler(stream=sys.stdout))"
   ]
  },
  {
   "cell_type": "code",
   "execution_count": 8,
   "metadata": {},
   "outputs": [],
   "source": [
    "from llama_index.llms import OpenAI\n",
    "from llama_index.callbacks import LlamaDebugHandler, CallbackManager\n",
    "\n",
    "llm = OpenAI(\"gpt-3.5-turbo\")\n",
    "\n",
    "callback_manager = CallbackManager([LlamaDebugHandler()])\n",
    "\n",
    "service_context = ServiceContext.from_defaults(\n",
    "    llm=llm, callback_manager=callback_manager, chunk_size=256\n",
    ")"
   ]
  },
  {
   "cell_type": "code",
   "execution_count": 9,
   "metadata": {},
   "outputs": [
    {
     "name": "stdout",
     "output_type": "stream",
     "text": [
      "Loaded 4 docs\n"
     ]
    }
   ],
   "source": [
    "required_exts = [\".txt\"]\n",
    "\n",
    "reader = SimpleDirectoryReader(\n",
    "    input_dir=\"../data\",\n",
    "    required_exts=required_exts,\n",
    "    recursive=True,\n",
    "    filename_as_id=True\n",
    ")\n",
    "\n",
    "docs = reader.load_data()\n",
    "print(f\"Loaded {len(docs)} docs\")"
   ]
  },
  {
   "cell_type": "markdown",
   "metadata": {},
   "source": [
    "# Metadata Filters + Auto-Retrieval\n",
    "\n"
   ]
  },
  {
   "cell_type": "code",
   "execution_count": 13,
   "metadata": {},
   "outputs": [],
   "source": [
    "from llama_index import VectorStoreIndex, SimpleDirectoryReader\n",
    "from llama_index.vector_stores import ChromaVectorStore"
   ]
  },
  {
   "cell_type": "code",
   "execution_count": 17,
   "metadata": {},
   "outputs": [
    {
     "name": "stdout",
     "output_type": "stream",
     "text": [
      "INFO:chromadb.telemetry.posthog:Anonymized telemetry enabled. See https://docs.trychroma.com/telemetry for more information.\n",
      "Anonymized telemetry enabled. See https://docs.trychroma.com/telemetry for more information.\n",
      "Anonymized telemetry enabled. See https://docs.trychroma.com/telemetry for more information.\n"
     ]
    }
   ],
   "source": [
    "import chromadb\n",
    "from llama_index.storage.storage_context import StorageContext\n",
    "\n",
    "db = chromadb.PersistentClient(path=\"../chroma_db\")\n",
    "chroma_collection = db.get_or_create_collection(\"quickstart\")\n",
    "vector_store = ChromaVectorStore(chroma_collection=chroma_collection)\n",
    "storage_context = StorageContext.from_defaults(vector_store=vector_store)"
   ]
  },
  {
   "cell_type": "code",
   "execution_count": 49,
   "metadata": {},
   "outputs": [
    {
     "name": "stdout",
     "output_type": "stream",
     "text": [
      "**********\n",
      "Trace: index_construction\n",
      "    |_CBEventType.NODE_PARSING ->  0.066032 seconds\n",
      "      |_CBEventType.CHUNKING ->  0.063786 seconds\n",
      "    |_CBEventType.EMBEDDING ->  0.335255 seconds\n",
      "    |_CBEventType.EMBEDDING ->  0.430667 seconds\n",
      "    |_CBEventType.EMBEDDING ->  0.39471 seconds\n",
      "    |_CBEventType.EMBEDDING ->  0.341174 seconds\n",
      "    |_CBEventType.EMBEDDING ->  0.333922 seconds\n",
      "    |_CBEventType.EMBEDDING ->  0.371205 seconds\n",
      "    |_CBEventType.EMBEDDING ->  0.655165 seconds\n",
      "    |_CBEventType.EMBEDDING ->  0.534313 seconds\n",
      "    |_CBEventType.EMBEDDING ->  0.513138 seconds\n",
      "    |_CBEventType.EMBEDDING ->  0.396431 seconds\n",
      "**********\n"
     ]
    },
    {
     "ename": "TypeError",
     "evalue": "type() takes 1 or 3 arguments",
     "output_type": "error",
     "traceback": [
      "\u001b[0;31m---------------------------------------------------------------------------\u001b[0m",
      "\u001b[0;31mTypeError\u001b[0m                                 Traceback (most recent call last)",
      "Cell \u001b[0;32mIn[49], line 1\u001b[0m\n\u001b[0;32m----> 1\u001b[0m \u001b[39mtype\u001b[39;49m(vector_index \u001b[39m=\u001b[39;49m VectorStoreIndex\u001b[39m.\u001b[39;49mfrom_documents([docs[\u001b[39m0\u001b[39;49m]], \n\u001b[1;32m      2\u001b[0m                                                 service_context\u001b[39m=\u001b[39;49mservice_context\n\u001b[1;32m      3\u001b[0m ))\n",
      "\u001b[0;31mTypeError\u001b[0m: type() takes 1 or 3 arguments"
     ]
    }
   ],
   "source": [
    "vector_index = VectorStoreIndex.from_documents([docs[0]], \n",
    "                                                service_context=service_context\n",
    ")"
   ]
  },
  {
   "cell_type": "code",
   "execution_count": 50,
   "metadata": {},
   "outputs": [
    {
     "data": {
      "text/plain": [
       "llama_index.indices.vector_store.base.VectorStoreIndex"
      ]
     },
     "execution_count": 50,
     "metadata": {},
     "output_type": "execute_result"
    }
   ],
   "source": [
    "type(vector_index)"
   ]
  },
  {
   "cell_type": "code",
   "execution_count": 53,
   "metadata": {},
   "outputs": [
    {
     "name": "stdout",
     "output_type": "stream",
     "text": [
      "**********\n",
      "Trace: index_construction\n",
      "    |_CBEventType.NODE_PARSING ->  0.074801 seconds\n",
      "      |_CBEventType.CHUNKING ->  0.07141 seconds\n",
      "    |_CBEventType.EMBEDDING ->  0.4537 seconds\n",
      "    |_CBEventType.EMBEDDING ->  0.407012 seconds\n",
      "    |_CBEventType.EMBEDDING ->  0.335879 seconds\n",
      "    |_CBEventType.EMBEDDING ->  0.378886 seconds\n",
      "    |_CBEventType.EMBEDDING ->  0.333408 seconds\n",
      "    |_CBEventType.EMBEDDING ->  0.336221 seconds\n",
      "    |_CBEventType.EMBEDDING ->  0.375312 seconds\n",
      "    |_CBEventType.EMBEDDING ->  0.339489 seconds\n",
      "    |_CBEventType.EMBEDDING ->  0.524282 seconds\n",
      "    |_CBEventType.EMBEDDING ->  0.520252 seconds\n",
      "**********\n",
      "**Summary for : I'm sorry, but I cannot provide a summary of \"../data/final-hh.txt\" as there is no information about that specific file in the provided context.\n",
      "**********\n",
      "Trace: index_construction\n",
      "    |_CBEventType.NODE_PARSING ->  0.171287 seconds\n",
      "      |_CBEventType.CHUNKING ->  0.167361 seconds\n",
      "    |_CBEventType.EMBEDDING ->  1.571646 seconds\n",
      "    |_CBEventType.EMBEDDING ->  0.380126 seconds\n",
      "    |_CBEventType.EMBEDDING ->  0.472776 seconds\n",
      "    |_CBEventType.EMBEDDING ->  0.301191 seconds\n",
      "    |_CBEventType.EMBEDDING ->  0.427983 seconds\n",
      "    |_CBEventType.EMBEDDING ->  0.322959 seconds\n",
      "    |_CBEventType.EMBEDDING ->  0.275057 seconds\n",
      "    |_CBEventType.EMBEDDING ->  0.51324 seconds\n",
      "    |_CBEventType.EMBEDDING ->  0.790116 seconds\n",
      "    |_CBEventType.EMBEDDING ->  0.340215 seconds\n",
      "    |_CBEventType.EMBEDDING ->  1.51496 seconds\n",
      "    |_CBEventType.EMBEDDING ->  0.262557 seconds\n",
      "    |_CBEventType.EMBEDDING ->  0.280519 seconds\n",
      "    |_CBEventType.EMBEDDING ->  0.351123 seconds\n",
      "    |_CBEventType.EMBEDDING ->  0.259337 seconds\n",
      "    |_CBEventType.EMBEDDING ->  0.405568 seconds\n",
      "    |_CBEventType.EMBEDDING ->  0.373083 seconds\n",
      "**********\n",
      "**********\n",
      "Trace: index_construction\n",
      "    |_CBEventType.NODE_PARSING ->  0.170233 seconds\n",
      "      |_CBEventType.CHUNKING ->  0.166475 seconds\n",
      "**********\n",
      "INFO:openai:message='OpenAI API response' path=https://api.openai.com/v1/chat/completions processing_ms=637 request_id=6b1f9e7ca47cf8f48b1bda3ca994f07a response_code=200\n",
      "message='OpenAI API response' path=https://api.openai.com/v1/chat/completions processing_ms=637 request_id=6b1f9e7ca47cf8f48b1bda3ca994f07a response_code=200\n",
      "message='OpenAI API response' path=https://api.openai.com/v1/chat/completions processing_ms=637 request_id=6b1f9e7ca47cf8f48b1bda3ca994f07a response_code=200\n",
      "INFO:openai:message='OpenAI API response' path=https://api.openai.com/v1/chat/completions processing_ms=1290 request_id=e205e4840a35b708188a78a5ca8b27b6 response_code=200\n",
      "message='OpenAI API response' path=https://api.openai.com/v1/chat/completions processing_ms=1290 request_id=e205e4840a35b708188a78a5ca8b27b6 response_code=200\n",
      "message='OpenAI API response' path=https://api.openai.com/v1/chat/completions processing_ms=1290 request_id=e205e4840a35b708188a78a5ca8b27b6 response_code=200\n",
      "INFO:openai:message='OpenAI API response' path=https://api.openai.com/v1/chat/completions processing_ms=1261 request_id=cf8519988156c3810232cd1a2e6ee9c6 response_code=200\n",
      "message='OpenAI API response' path=https://api.openai.com/v1/chat/completions processing_ms=1261 request_id=cf8519988156c3810232cd1a2e6ee9c6 response_code=200\n",
      "message='OpenAI API response' path=https://api.openai.com/v1/chat/completions processing_ms=1261 request_id=cf8519988156c3810232cd1a2e6ee9c6 response_code=200\n",
      "INFO:openai:message='OpenAI API response' path=https://api.openai.com/v1/chat/completions processing_ms=1404 request_id=060a3e62f41491996a7339eea41962df response_code=200\n",
      "message='OpenAI API response' path=https://api.openai.com/v1/chat/completions processing_ms=1404 request_id=060a3e62f41491996a7339eea41962df response_code=200\n",
      "message='OpenAI API response' path=https://api.openai.com/v1/chat/completions processing_ms=1404 request_id=060a3e62f41491996a7339eea41962df response_code=200\n",
      "INFO:openai:message='OpenAI API response' path=https://api.openai.com/v1/chat/completions processing_ms=1396 request_id=2d57a62620f3309348c61e168545da18 response_code=200\n",
      "message='OpenAI API response' path=https://api.openai.com/v1/chat/completions processing_ms=1396 request_id=2d57a62620f3309348c61e168545da18 response_code=200\n",
      "message='OpenAI API response' path=https://api.openai.com/v1/chat/completions processing_ms=1396 request_id=2d57a62620f3309348c61e168545da18 response_code=200\n",
      "INFO:openai:message='OpenAI API response' path=https://api.openai.com/v1/chat/completions processing_ms=1426 request_id=d79c7e9ab36b1605812d41c5071e5a98 response_code=200\n",
      "message='OpenAI API response' path=https://api.openai.com/v1/chat/completions processing_ms=1426 request_id=d79c7e9ab36b1605812d41c5071e5a98 response_code=200\n",
      "message='OpenAI API response' path=https://api.openai.com/v1/chat/completions processing_ms=1426 request_id=d79c7e9ab36b1605812d41c5071e5a98 response_code=200\n",
      "INFO:openai:message='OpenAI API response' path=https://api.openai.com/v1/chat/completions processing_ms=1577 request_id=b128ff5d8ac6fdccdf145598c35e5405 response_code=200\n",
      "message='OpenAI API response' path=https://api.openai.com/v1/chat/completions processing_ms=1577 request_id=b128ff5d8ac6fdccdf145598c35e5405 response_code=200\n",
      "message='OpenAI API response' path=https://api.openai.com/v1/chat/completions processing_ms=1577 request_id=b128ff5d8ac6fdccdf145598c35e5405 response_code=200\n",
      "INFO:openai:message='OpenAI API response' path=https://api.openai.com/v1/chat/completions processing_ms=1625 request_id=1131e769b729aceaa5a57522d4c8f8df response_code=200\n",
      "message='OpenAI API response' path=https://api.openai.com/v1/chat/completions processing_ms=1625 request_id=1131e769b729aceaa5a57522d4c8f8df response_code=200\n",
      "message='OpenAI API response' path=https://api.openai.com/v1/chat/completions processing_ms=1625 request_id=1131e769b729aceaa5a57522d4c8f8df response_code=200\n",
      "INFO:openai:message='OpenAI API response' path=https://api.openai.com/v1/chat/completions processing_ms=1658 request_id=70fa686edcb35aca86ab36fd4350bfb5 response_code=200\n",
      "message='OpenAI API response' path=https://api.openai.com/v1/chat/completions processing_ms=1658 request_id=70fa686edcb35aca86ab36fd4350bfb5 response_code=200\n",
      "message='OpenAI API response' path=https://api.openai.com/v1/chat/completions processing_ms=1658 request_id=70fa686edcb35aca86ab36fd4350bfb5 response_code=200\n",
      "INFO:openai:message='OpenAI API response' path=https://api.openai.com/v1/chat/completions processing_ms=1492 request_id=034b7cf2052ab621399a4121d78c3970 response_code=200\n",
      "message='OpenAI API response' path=https://api.openai.com/v1/chat/completions processing_ms=1492 request_id=034b7cf2052ab621399a4121d78c3970 response_code=200\n",
      "message='OpenAI API response' path=https://api.openai.com/v1/chat/completions processing_ms=1492 request_id=034b7cf2052ab621399a4121d78c3970 response_code=200\n",
      "INFO:openai:message='OpenAI API response' path=https://api.openai.com/v1/chat/completions processing_ms=2974 request_id=3323a563624d8e7a4d20eb3680774638 response_code=200\n",
      "message='OpenAI API response' path=https://api.openai.com/v1/chat/completions processing_ms=2974 request_id=3323a563624d8e7a4d20eb3680774638 response_code=200\n",
      "message='OpenAI API response' path=https://api.openai.com/v1/chat/completions processing_ms=2974 request_id=3323a563624d8e7a4d20eb3680774638 response_code=200\n",
      "INFO:openai:message='OpenAI API response' path=https://api.openai.com/v1/chat/completions processing_ms=6097 request_id=9c2fd1a5d81172ddf23e85cb64555499 response_code=200\n",
      "message='OpenAI API response' path=https://api.openai.com/v1/chat/completions processing_ms=6097 request_id=9c2fd1a5d81172ddf23e85cb64555499 response_code=200\n",
      "message='OpenAI API response' path=https://api.openai.com/v1/chat/completions processing_ms=6097 request_id=9c2fd1a5d81172ddf23e85cb64555499 response_code=200\n",
      "INFO:openai:message='OpenAI API response' path=https://api.openai.com/v1/chat/completions processing_ms=1353 request_id=33ab2f7de6dccfbdf2d1681c3a97f27d response_code=200\n",
      "message='OpenAI API response' path=https://api.openai.com/v1/chat/completions processing_ms=1353 request_id=33ab2f7de6dccfbdf2d1681c3a97f27d response_code=200\n",
      "message='OpenAI API response' path=https://api.openai.com/v1/chat/completions processing_ms=1353 request_id=33ab2f7de6dccfbdf2d1681c3a97f27d response_code=200\n",
      "**********\n",
      "Trace: query\n",
      "    |_CBEventType.QUERY ->  8.168327 seconds\n",
      "      |_CBEventType.RETRIEVE ->  0.004622 seconds\n",
      "      |_CBEventType.SYNTHESIZE ->  8.163569 seconds\n",
      "        |_CBEventType.TEMPLATING ->  2.8e-05 seconds\n",
      "        |_CBEventType.LLM ->  1.640149 seconds\n",
      "        |_CBEventType.TEMPLATING ->  1.1e-05 seconds\n",
      "        |_CBEventType.LLM ->  3.319488 seconds\n",
      "        |_CBEventType.TEMPLATING ->  7e-06 seconds\n",
      "        |_CBEventType.LLM ->  2.032576 seconds\n",
      "        |_CBEventType.TEMPLATING ->  6e-06 seconds\n",
      "        |_CBEventType.LLM ->  1.794288 seconds\n",
      "        |_CBEventType.TEMPLATING ->  6e-06 seconds\n",
      "        |_CBEventType.LLM ->  1.842865 seconds\n",
      "        |_CBEventType.TEMPLATING ->  5e-06 seconds\n",
      "        |_CBEventType.LLM ->  1.770988 seconds\n",
      "        |_CBEventType.TEMPLATING ->  6e-06 seconds\n",
      "        |_CBEventType.LLM ->  2.86078 seconds\n",
      "        |_CBEventType.TEMPLATING ->  1.5e-05 seconds\n",
      "        |_CBEventType.LLM ->  1.995164 seconds\n",
      "        |_CBEventType.TEMPLATING ->  5e-06 seconds\n",
      "        |_CBEventType.LLM ->  1.659671 seconds\n",
      "        |_CBEventType.TEMPLATING ->  5e-06 seconds\n",
      "        |_CBEventType.LLM ->  1.73251 seconds\n",
      "        |_CBEventType.TEMPLATING ->  5e-06 seconds\n",
      "        |_CBEventType.LLM ->  6.435153 seconds\n",
      "        |_CBEventType.TEMPLATING ->  5e-06 seconds\n",
      "        |_CBEventType.LLM ->  1.284415 seconds\n",
      "        |_CBEventType.TEMPLATING ->  7e-05 seconds\n",
      "        |_CBEventType.LLM ->  1.585552 seconds\n",
      "**********\n"
     ]
    },
    {
     "ename": "TypeError",
     "evalue": "write() argument must be str, not Document",
     "output_type": "error",
     "traceback": [
      "\u001b[0;31m---------------------------------------------------------------------------\u001b[0m",
      "\u001b[0;31mTypeError\u001b[0m                                 Traceback (most recent call last)",
      "Cell \u001b[0;32mIn[53], line 32\u001b[0m\n\u001b[1;32m     30\u001b[0m     Path(\u001b[39m\"\u001b[39m\u001b[39msummaries\u001b[39m\u001b[39m\"\u001b[39m)\u001b[39m.\u001b[39mmkdir(exist_ok\u001b[39m=\u001b[39m\u001b[39mTrue\u001b[39;00m)\n\u001b[1;32m     31\u001b[0m     \u001b[39mwith\u001b[39;00m \u001b[39mopen\u001b[39m(out_path, \u001b[39m\"\u001b[39m\u001b[39mw\u001b[39m\u001b[39m\"\u001b[39m) \u001b[39mas\u001b[39;00m fp:\n\u001b[0;32m---> 32\u001b[0m         fp\u001b[39m.\u001b[39mwrite(doc)\n\u001b[1;32m     33\u001b[0m \u001b[39melse\u001b[39;00m:\n\u001b[1;32m     34\u001b[0m     \u001b[39mwith\u001b[39;00m \u001b[39mopen\u001b[39m(out_path, \u001b[39m\"\u001b[39m\u001b[39mr\u001b[39m\u001b[39m\"\u001b[39m) \u001b[39mas\u001b[39;00m fp:\n",
      "\u001b[0;31mTypeError\u001b[0m: write() argument must be str, not Document"
     ]
    }
   ],
   "source": [
    "# define top-level nodes and vector retrievers\n",
    "nodes = []\n",
    "vector_query_engines = {}\n",
    "vector_retrievers = {}\n",
    "\n",
    "for doc in docs:\n",
    "    # build vector index\n",
    "    doc_id = doc.id_.split(\"/\")[-1]\n",
    "    vector_index = VectorStoreIndex.from_documents([doc], \n",
    "                                                   service_context=service_context\n",
    "    )\n",
    "    # define query engines\n",
    "    vector_query_engine = vector_index.as_query_engine()\n",
    "    vector_query_engines[doc_id] = vector_query_engine\n",
    "    vector_retrievers[doc_id] = vector_index.as_retriever()\n",
    "\n",
    "    # save summaries\n",
    "    \n",
    "    out_path = Path(\"summaries\") / f\"{doc_id}.txt\"\n",
    "    if not out_path.exists():\n",
    "        # use LLM-generated summary\n",
    "        summary_index = SummaryIndex.from_documents([doc], \n",
    "                                                    service_context=service_context\n",
    "        )\n",
    "\n",
    "        summarizer = summary_index.as_query_engine(response_mode=\"tree_summarize\")\n",
    "        response = await summarizer.aquery(f\"Give me a summary of {doc_id}\")\n",
    "\n",
    "        doc_summary = response.response\n",
    "        Path(\"summaries\").mkdir(exist_ok=True)\n",
    "        with open(out_path, \"w\") as fp:\n",
    "            fp.write(doc)\n",
    "    else:\n",
    "        with open(out_path, \"r\") as fp:\n",
    "            doc = fp.read()\n",
    "\n",
    "    print(f\"**Summary for {doc}: {doc_summary}\")\n",
    "    node = IndexNode(text=doc_summary, index_id=doc)\n",
    "    nodes.append(node)"
   ]
  },
  {
   "cell_type": "code",
   "execution_count": null,
   "metadata": {},
   "outputs": [],
   "source": []
  }
 ],
 "metadata": {
  "kernelspec": {
   "display_name": "aimakerspace",
   "language": "python",
   "name": "python3"
  },
  "language_info": {
   "codemirror_mode": {
    "name": "ipython",
    "version": 3
   },
   "file_extension": ".py",
   "mimetype": "text/x-python",
   "name": "python",
   "nbconvert_exporter": "python",
   "pygments_lexer": "ipython3",
   "version": "3.11.4"
  },
  "orig_nbformat": 4
 },
 "nbformat": 4,
 "nbformat_minor": 2
}
